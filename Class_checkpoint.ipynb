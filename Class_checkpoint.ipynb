{
 "cells": [
  {
   "cell_type": "code",
   "execution_count": 2,
   "id": "147f8fdb",
   "metadata": {},
   "outputs": [
    {
     "name": "stdout",
     "output_type": "stream",
     "text": [
      "(1, 2, 3)\n"
     ]
    }
   ],
   "source": [
    "class Point3D:\n",
    "    \n",
    "    def __init__(self, x, y, z):\n",
    "        self.x = x\n",
    "        self.y = y\n",
    "        self.z = z\n",
    "    \n",
    "    def method1(self):\n",
    "        return (self.x, self.y, self.z)\n",
    "\n",
    "my_point = Point3D(1, 2, 3)\n",
    "print(my_point.method1())"
   ]
  },
  {
   "cell_type": "code",
   "execution_count": 4,
   "id": "2b678222",
   "metadata": {},
   "outputs": [
    {
     "name": "stdout",
     "output_type": "stream",
     "text": [
      "12\n",
      "14\n"
     ]
    }
   ],
   "source": [
    "class Rectangle:\n",
    "    \n",
    "    def __init__(self, longueur, largeur):\n",
    "        self.longueur = longueur\n",
    "        self.largeur = largeur\n",
    "        \n",
    "    def aire(self):\n",
    "        return self.longueur*self.largeur\n",
    "    def perimetre(self):\n",
    "        return (self.longueur + self.largeur)*2\n",
    "    \n",
    "my_rectangle = Rectangle(4,3)\n",
    "print(my_rectangle.aire())\n",
    "print(my_rectangle.perimetre())"
   ]
  },
  {
   "cell_type": "code",
   "execution_count": 5,
   "id": "5e2bf0f6",
   "metadata": {},
   "outputs": [
    {
     "name": "stdout",
     "output_type": "stream",
     "text": [
      "Aire : 78.5\n",
      "Périmètre : 31.400000000000002\n",
      "Ce point appartient au cercle.\n"
     ]
    }
   ],
   "source": [
    "class Circle:\n",
    "    def __init__(self, center, radius):\n",
    "        self.center = center\n",
    "        self.radius = radius\n",
    "\n",
    "    def area(self):\n",
    "        return 3.14 * self.radius ** 2\n",
    "\n",
    "    def perimeter(self):\n",
    "        return 2 * 3.14 * self.radius\n",
    "\n",
    "    def inside(self, point):\n",
    "        dist = ((point[0]-self.center[0])**2 + (point[1]-self.center[1])**2)**0.5\n",
    "        return dist <= self.radius\n",
    "    \n",
    "    \n",
    "my_circle = Circle((0, 0), 5)\n",
    "\n",
    "\n",
    "print(\"Aire :\", my_circle.area()) \n",
    "print(\"Périmètre :\", my_circle.perimeter())\n",
    "\n",
    "if my_circle.inside((3, 4)):\n",
    "    print(\"Ce point appartient au cercle.\")\n",
    "else:\n",
    "    print(\"Ce point n'appartient pas au cercle.\") "
   ]
  },
  {
   "cell_type": "code",
   "execution_count": 6,
   "id": "c14dfa2b",
   "metadata": {},
   "outputs": [],
   "source": [
    "class Bank:\n",
    "    def __init__(self, solde):\n",
    "        self.solde = solde\n",
    "\n",
    "    def depot(self, montant):\n",
    "        self.solde += montant\n",
    "        return self.solde\n",
    "\n",
    "    def retrait(self, montant):\n",
    "        if montant > self.solde:\n",
    "            return \"Solde insuffisant\"\n",
    "        else:\n",
    "            self.solde -= montant\n",
    "            return self.solde"
   ]
  },
  {
   "cell_type": "code",
   "execution_count": null,
   "id": "32b8b581",
   "metadata": {},
   "outputs": [],
   "source": []
  }
 ],
 "metadata": {
  "kernelspec": {
   "display_name": "Python 3 (ipykernel)",
   "language": "python",
   "name": "python3"
  },
  "language_info": {
   "codemirror_mode": {
    "name": "ipython",
    "version": 3
   },
   "file_extension": ".py",
   "mimetype": "text/x-python",
   "name": "python",
   "nbconvert_exporter": "python",
   "pygments_lexer": "ipython3",
   "version": "3.9.13"
  }
 },
 "nbformat": 4,
 "nbformat_minor": 5
}
